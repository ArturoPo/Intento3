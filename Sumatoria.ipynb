{
 "cells": [
  {
   "cell_type": "code",
   "execution_count": 3,
   "metadata": {},
   "outputs": [
    {
     "name": "stdout",
     "output_type": "stream",
     "text": [
      "dame el primer numero0\n",
      "dame el segundo numero3\n",
      "6\n"
     ]
    }
   ],
   "source": [
    "n = int(input(\"dame el primer numero  \"))\n",
    "m = int(input(\"dame el segundo numero  \"))\n",
    "\n",
    "d = 0\n",
    "\n",
    "for i in range (n,m + 1):\n",
    "    sumatoria = i + d\n",
    "    d = sumatoria\n",
    "\n",
    "print (d)\n",
    "\n",
    "\n",
    "    "
   ]
  },
  {
   "cell_type": "code",
   "execution_count": null,
   "metadata": {
    "collapsed": true
   },
   "outputs": [],
   "source": []
  }
 ],
 "metadata": {
  "kernelspec": {
   "display_name": "Python 3",
   "language": "python",
   "name": "python3"
  },
  "language_info": {
   "codemirror_mode": {
    "name": "ipython",
    "version": 3
   },
   "file_extension": ".py",
   "mimetype": "text/x-python",
   "name": "python",
   "nbconvert_exporter": "python",
   "pygments_lexer": "ipython3",
   "version": "3.6.1"
  }
 },
 "nbformat": 4,
 "nbformat_minor": 2
}
